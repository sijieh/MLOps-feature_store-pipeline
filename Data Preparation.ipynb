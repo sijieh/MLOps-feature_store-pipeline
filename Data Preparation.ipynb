{
  "cells": [
    {
      "cell_type": "markdown",
      "metadata": {
        "id": "F_Tz0Z8wjOX5"
      },
      "source": [
        "# Data Preparation"
      ]
    },
    {
      "cell_type": "code",
      "execution_count": 1,
      "metadata": {
        "id": "2SUSBMxEjPxA"
      },
      "outputs": [],
      "source": [
        "import pandas as pd\n",
        "\n",
        "data = pd.read_csv(\"athletes.csv\")"
      ]
    },
    {
      "cell_type": "code",
      "execution_count": 2,
      "metadata": {
        "id": "QQaTXtxzj_AJ"
      },
      "outputs": [],
      "source": [
        "import numpy as np\n",
        "# Remove not relevant columns\n",
        "data = data.dropna(subset=['region','age','weight','height','howlong','gender','eat', \\\n",
        "                               'train','background','experience','schedule','howlong', \\\n",
        "                               'deadlift','candj','snatch','backsq','experience',\\\n",
        "                               'background','schedule','howlong'])\n",
        "data = data.drop(columns=['affiliate','team','name','fran','helen','grace',\\\n",
        "                              'filthy50','fgonebad','run400','run5k','pullups', 'train'])\n",
        "\n",
        "# Remove Outliers\n",
        "\n",
        "data = data[data['weight'] < 1500]\n",
        "data = data[data['gender'] != '--']\n",
        "data = data[data['age'] >= 18]\n",
        "data = data[(data['height'] < 96) & (data['height'] > 48)]\n",
        "\n",
        "data = data[(data['deadlift'] > 0) & (data['deadlift'] <= 1105)|((data['gender'] == 'Female') \\\n",
        "                 & (data['deadlift'] <= 636))]\n",
        "data = data[(data['candj'] > 0) & (data['candj'] <= 395)]\n",
        "data = data[(data['snatch'] > 0) & (data['snatch'] <= 496)]\n",
        "data_v2 = data[(data['backsq'] > 0) & (data['backsq'] <= 1069)]\n",
        "\n",
        "# Clean Survey Data\n",
        "\n",
        "decline_dict = {'Decline to answer|': np.nan}\n",
        "data = data.replace(decline_dict)\n",
        "data = data.dropna(subset=['background','experience','schedule','howlong','eat'])"
      ]
    },
    {
      "cell_type": "code",
      "execution_count": 3,
      "metadata": {
        "id": "cBeDZpg7kWeh"
      },
      "outputs": [],
      "source": [
        "# Add Total Lift Column\n",
        "data['total_lift'] = data['deadlift'] + data['candj'] + data['snatch'] + data['backsq']\n",
        "data = data.dropna(subset=[\"age\", \"weight\", \"height\",'total_lift'])"
      ]
    },
    {
      "cell_type": "code",
      "execution_count": 4,
      "metadata": {
        "colab": {
          "base_uri": "https://localhost:8080/"
        },
        "id": "w2lQV3yNka60",
        "outputId": "a0dc03a1-cb2d-46f6-bd97-ffd763a03fe0"
      },
      "outputs": [
        {
          "name": "stdout",
          "output_type": "stream",
          "text": [
            "<class 'pandas.core.frame.DataFrame'>\n",
            "Index: 30063 entries, 21 to 422961\n",
            "Data columns (total 16 columns):\n",
            " #   Column      Non-Null Count  Dtype  \n",
            "---  ------      --------------  -----  \n",
            " 0   athlete_id  30063 non-null  float64\n",
            " 1   region      30063 non-null  object \n",
            " 2   gender      30063 non-null  object \n",
            " 3   age         30063 non-null  float64\n",
            " 4   height      30063 non-null  float64\n",
            " 5   weight      30063 non-null  float64\n",
            " 6   candj       30063 non-null  float64\n",
            " 7   snatch      30063 non-null  float64\n",
            " 8   deadlift    30063 non-null  float64\n",
            " 9   backsq      30063 non-null  float64\n",
            " 10  eat         30063 non-null  object \n",
            " 11  background  30063 non-null  object \n",
            " 12  experience  30063 non-null  object \n",
            " 13  schedule    30063 non-null  object \n",
            " 14  howlong     30063 non-null  object \n",
            " 15  total_lift  30063 non-null  float64\n",
            "dtypes: float64(9), object(7)\n",
            "memory usage: 3.9+ MB\n"
          ]
        }
      ],
      "source": [
        "data.info()"
      ]
    },
    {
      "cell_type": "code",
      "execution_count": 5,
      "metadata": {
        "id": "PWHeHooIjLZI"
      },
      "outputs": [],
      "source": [
        "# Create event_timestamp (required by Feast)\n",
        "data['event_timestamp'] = pd.Timestamp.now()"
      ]
    },
    {
      "cell_type": "code",
      "execution_count": 6,
      "metadata": {
        "colab": {
          "base_uri": "https://localhost:8080/",
          "height": 382
        },
        "id": "C96D4mqKjO_t",
        "outputId": "20ec7a73-59fe-49ce-d6d8-1836e1c8accb"
      },
      "outputs": [],
      "source": [
        "# Version 1: only 3 features\n",
        "v1_df = data[['athlete_id','age', 'weight', 'height', 'event_timestamp', 'total_lift']]\n",
        "\n",
        "# Version 2: with 4 extra features\n",
        "v2_df = data[['athlete_id', 'age', 'weight', 'height', 'deadlift', 'candj', 'snatch', 'backsq', 'event_timestamp', 'total_lift']]"
      ]
    },
    {
      "cell_type": "code",
      "execution_count": 7,
      "metadata": {
        "id": "SfEqFlj9k0Pu"
      },
      "outputs": [],
      "source": [
        "v1_df.to_parquet('./v1_features.parquet', index=False)\n",
        "v2_df.to_parquet('./v2_features.parquet', index=False)"
      ]
    },
    {
      "cell_type": "code",
      "execution_count": null,
      "metadata": {
        "id": "Dx4kuZFgkmVj"
      },
      "outputs": [],
      "source": []
    }
  ],
  "metadata": {
    "colab": {
      "provenance": []
    },
    "kernelspec": {
      "display_name": "base",
      "language": "python",
      "name": "python3"
    },
    "language_info": {
      "codemirror_mode": {
        "name": "ipython",
        "version": 3
      },
      "file_extension": ".py",
      "mimetype": "text/x-python",
      "name": "python",
      "nbconvert_exporter": "python",
      "pygments_lexer": "ipython3",
      "version": "3.12.10"
    }
  },
  "nbformat": 4,
  "nbformat_minor": 0
}
